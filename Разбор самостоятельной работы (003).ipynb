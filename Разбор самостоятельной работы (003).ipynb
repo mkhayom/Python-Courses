{
 "cells": [
  {
   "cell_type": "markdown",
   "metadata": {},
   "source": [
    "### Решение задач ДЗ"
   ]
  },
  {
   "cell_type": "markdown",
   "metadata": {},
   "source": [
    "\n",
    "### 1.\n",
    "\n",
    "1) Рассчитать \"Активная сумма в нац. Валюте\" и кол-во в разрезе \"Подразделение\"\n",
    "\n",
    "2) Сделать градацию по суммам (до 10 000; 50 000; 200 000; 500 000; более 500 000) \"Активная сумма в нац. Валюте\"\n",
    "\n",
    "3) Рассчитать \"Активная сумма в нац. Валюте\" в разрезе \"Подсектор кредита\", а также Рассчитать Портфель в риске (до 30 дней; 90 дней; 180 дней; более 180 дней) в разрезе \"Подразделение\""
   ]
  },
  {
   "cell_type": "code",
   "execution_count": 6,
   "metadata": {},
   "outputs": [],
   "source": [
    "# Import Modules\n",
    "import pandas as pd\n",
    "pd.options.display.float_format = '{:,.2f}'.format\n",
    "pd.set_option(\"display.max_columns\", 150)\n",
    "pd.set_option(\"display.max_rows\", 100)"
   ]
  },
  {
   "cell_type": "code",
   "execution_count": 7,
   "metadata": {},
   "outputs": [],
   "source": [
    "# Read Data\n",
    "df = pd.read_excel(r\"C:\\Users\\EgamovA\\Desktop\\Courses\\10Активные кредиты 31.10.20X6.xlsx\", header=3)\n",
    "# \"C:\\Users\\EgamovA\\Desktop\\Courses\\10Активные кредиты 31.10.20X6.xlsx\""
   ]
  },
  {
   "cell_type": "code",
   "execution_count": 48,
   "metadata": {},
   "outputs": [],
   "source": [
    "# Manual actions\n",
    "result = df.groupby('Подразделение').agg(active_sum_lcy=(\"Активная сумма в нац. валюте\", \"sum\"),\n",
    "                                        active_count_lcy=(\"Активная сумма в нац. валюте\", \"count\")\n",
    "                                        ).reset_index()\n",
    "\n",
    "# Cross-check\n",
    "if result['active_sum_lcy'].isna().any():\n",
    "    raise Warning(f\"Please check your calculations by department {result.loc[result['active_sum_lcy'].isna(), 'Подразделение'].unique().tolist()}\")"
   ]
  },
  {
   "cell_type": "code",
   "execution_count": 46,
   "metadata": {},
   "outputs": [],
   "source": [
    "result.loc[result.active_sum_lcy.eq(6454026070), 'active_sum_lcy'] = None"
   ]
  },
  {
   "cell_type": "code",
   "execution_count": 49,
   "metadata": {},
   "outputs": [],
   "source": [
    "result\n",
    "\n",
    "# Cross-check\n",
    "if result['active_sum_lcy'].isna().any():\n",
    "    raise Warning(f\"Please check your calculations by department {result.loc[result['active_sum_lcy'].isna(), 'Подразделение'].unique().tolist()}\")"
   ]
  },
  {
   "cell_type": "markdown",
   "metadata": {},
   "source": [
    "#### 2."
   ]
  },
  {
   "cell_type": "code",
   "execution_count": 59,
   "metadata": {},
   "outputs": [],
   "source": [
    "def categorize_amount(amount):\n",
    "    if amount <= 10000:\n",
    "        return 'до 10 000'\n",
    "    elif amount <= 50000:\n",
    "        return '10 000 - 50 000'\n",
    "    elif amount <= 200000:\n",
    "        return '50 000 - 200 000'\n",
    "    elif amount <= 500000:\n",
    "        return '200 000 - 500 000'\n",
    "    else:\n",
    "        return 'более 500 000'\n",
    "\n",
    "# Создание нового столбца с категориями\n",
    "df['category'] = df['Активная сумма в нац. валюте'].apply(categorize_amount)\n",
    "\n",
    "if not df.loc[df['category'].isna()].empty:\n",
    "    raise Warning(f\"Some data isn't categorized. \\n Please check this clients {df.loc[df['category'].isna(), 'Рег. номер клиента'].unique().tolist()}\")"
   ]
  },
  {
   "cell_type": "markdown",
   "metadata": {},
   "source": [
    "#### 3"
   ]
  },
  {
   "cell_type": "code",
   "execution_count": 71,
   "metadata": {},
   "outputs": [],
   "source": [
    "sector = df.groupby(['Подсектор (Вид деятельности)', 'Филиал'])['Активная сумма в нац. валюте'].sum().reset_index()\n",
    "\n",
    "def calculate_portfolio_risk(days):\n",
    "    if days <= 30:\n",
    "        return 'до 30 дней'\n",
    "    elif days <= 90:\n",
    "        return 'до 90 дней'\n",
    "    elif days <= 180:\n",
    "        return 'до 180 дней'\n",
    "    else:\n",
    "        return 'более 180 дней'\n",
    "\n",
    "df['Портфель в риске'] = df['Количество дней просрочки'].apply(calculate_portfolio_risk)\n",
    "\n",
    "risk_portfolio = df.groupby(['Подразделение', 'Портфель в риске'])['Активная сумма в нац. валюте'].sum().reset_index()"
   ]
  },
  {
   "cell_type": "code",
   "execution_count": 74,
   "metadata": {},
   "outputs": [],
   "source": [
    "df['Дата выдачи'] = pd.to_datetime(df['Дата выдачи'], format='%d.%m.%Y')\n",
    "df['Дата окончание действия договора'] = pd.to_datetime(df['Дата окончание действия договора'], format='%d.%m.%Y')\n",
    "\n",
    "df['Количество дней для оплаты'] = (df['Дата окончание действия договора'] - df['Дата выдачи']).dt.days"
   ]
  },
  {
   "cell_type": "markdown",
   "metadata": {},
   "source": [
    "### "
   ]
  },
  {
   "cell_type": "markdown",
   "metadata": {},
   "source": [
    "### Day 7. Reporting   "
   ]
  },
  {
   "cell_type": "markdown",
   "metadata": {},
   "source": [
    "Сценарие: В прошлом месяце был объявлен конкурс лучший КЭ со следующими критериями:\n",
    "1. Прирост кредитного портфеля на 30%\n",
    "2. Доля клиентов женского пола в портфеле не менее 20%\n",
    "3. Доля просрочек 10 дней и более (PAR 10+)  меньше 1%\n",
    "4. Наличие не менее 10 лояльных клиентов (ступень кредита >5)\n",
    "5. Наличие проектных кредитов\n",
    "   \n",
    "Первое место с максимальными показателями получить 5000 сомони , 2-е место - 3000 и 3-е 1000 сом.\n",
    "\n",
    "Определите 3 победилей конкурса, анализируя данные текущего месяца и прошлого.\n"
   ]
  },
  {
   "cell_type": "code",
   "execution_count": null,
   "metadata": {},
   "outputs": [],
   "source": []
  },
  {
   "cell_type": "markdown",
   "metadata": {},
   "source": [
    "Сценарие: При построении модели для скоринга кредитов, группа аналитиков столкнулась с проблемой не качественного ввода данных.\n",
    "Требуется анализировать средные показатели по следующим полям:\n",
    "1. Ежемесячный доход семьи\t\n",
    "2. Ежемесячный расход семьи\t\n",
    "3. Дата рождения клиента\n",
    "\n",
    "Следует учесть фактор региона/филиала и пол\n"
   ]
  }
 ],
 "metadata": {
  "kernelspec": {
   "display_name": "Python 3",
   "language": "python",
   "name": "python3"
  },
  "language_info": {
   "codemirror_mode": {
    "name": "ipython",
    "version": 3
   },
   "file_extension": ".py",
   "mimetype": "text/x-python",
   "name": "python",
   "nbconvert_exporter": "python",
   "pygments_lexer": "ipython3",
   "version": "3.12.1"
  },
  "orig_nbformat": 4
 },
 "nbformat": 4,
 "nbformat_minor": 2
}
